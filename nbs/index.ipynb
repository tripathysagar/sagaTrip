{
 "cells": [
  {
   "cell_type": "raw",
   "metadata": {},
   "source": [
    "---\n",
    "title: \"Home\"\n",
    "sidebar: false\n",
    "---"
   ]
  },
  {
   "cell_type": "markdown",
   "metadata": {},
   "source": [
    "Lets learn deeplearning. This is my blog. "
   ]
  },
  {
   "cell_type": "markdown",
   "metadata": {},
   "source": [
    "## Standalone Learning\n",
    "| 📅 Date | 🎯 Blog Post | 🚀 Run in Colab |    \n",
    "|:----:|:----:|:----:|\n",
    "| 31/08/2025 | [LLM Text Generation](./01_LLMForwardPass.ipynb) | [![Colab](https://colab.research.google.com/assets/colab-badge.svg)](https://colab.research.google.com/github/tripathysagar/sagaTrip/blob/main/nbs/01_LLMForwardPass.ipynb) |\n",
    "| 31/08/2025 | [LoRA PyTorch](./02_LoRAPytorch.ipynb)| [![Colab](https://colab.research.google.com/assets/colab-badge.svg)](https://colab.research.google.com/github/tripathysagar/sagaTrip/blob/main/nbs/02_LoRAPytorch.ipynb) |\n",
    "| 02/10/2025 | [Python Walk Through](./04_PythonWalkThrough.ipynb) | [![Colab](https://colab.research.google.com/assets/colab-badge.svg)](https://colab.research.google.com/github/tripathysagar/sagaTrip/blob/main/nbs/04_PythonWalkThrough.ipynb) |\n"
   ]
  },
  {
   "cell_type": "markdown",
   "metadata": {},
   "source": [
    "## Bigger Experiments"
   ]
  },
  {
   "cell_type": "markdown",
   "metadata": {},
   "source": [
    "| 📅 Date | 🎯 Blog Post | \n",
    "|:----:|:----:|\n",
    "|23/09/2025 | [Domain Adaptation Fine Tune on Teleco Data](./03_DAFTSFT.ipynb)|"
   ]
  }
 ],
 "metadata": {
  "kernelspec": {
   "display_name": "python3",
   "language": "python",
   "name": "python3"
  }
 },
 "nbformat": 4,
 "nbformat_minor": 4
}
