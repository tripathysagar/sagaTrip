{
 "cells": [
  {
   "cell_type": "raw",
   "metadata": {},
   "source": [
    "---\n",
    "title: \"Home\"\n",
    "sidebar: false\n",
    "---"
   ]
  },
  {
   "cell_type": "markdown",
   "metadata": {},
   "source": [
    "# Sagar Tripathy\n",
    "Lets 🎓 deeplearning. This is my blog. "
   ]
  },
  {
   "cell_type": "markdown",
   "metadata": {},
   "source": [
    "## Standalone Learning\n",
    "| 🎯 Blog Post | 🚀 Run in Colab |\n",
    "|:----:|:----:|\n",
    "| [LLM Text Generation](./01_LLMForwardPass.ipynb) | [![Colab](https://colab.research.google.com/assets/colab-badge.svg)](https://colab.research.google.com/github/tripathysagar/sagaTrip/blob/main/nbs/01_LLMForwardPass.ipynb) |\n",
    "| [LoRA PyTorch](./02_LoRAPytorch.ipynb)| [![Colab](https://colab.research.google.com/assets/colab-badge.svg)](https://colab.research.google.com/github/tripathysagar/sagaTrip/blob/main/nbs/02_LoRAPytorch.ipynb) |\n",
    "| [Python Walk Through](./04_PythonWalkThrough.ipynb) | [![Colab](https://colab.research.google.com/assets/colab-badge.svg)](https://colab.research.google.com/github/tripathysagar/sagaTrip/blob/main/nbs/04_PythonWalkThrough.ipynb) |\n"
   ]
  },
  {
   "cell_type": "markdown",
   "metadata": {},
   "source": [
    "## Bigger Experiments"
   ]
  },
  {
   "cell_type": "markdown",
   "metadata": {},
   "source": [
    "1. [Domain Adaptation Fine Tune on Teleco Data](./03_DAFTSFT.ipynb)"
   ]
  },
  {
   "cell_type": "markdown",
   "metadata": {},
   "source": []
  }
 ],
 "metadata": {
  "kernelspec": {
   "display_name": "base",
   "language": "python",
   "name": "python3"
  },
  "language_info": {
   "codemirror_mode": {
    "name": "ipython",
    "version": 3
   },
   "file_extension": ".py",
   "mimetype": "text/x-python",
   "name": "python",
   "nbconvert_exporter": "python",
   "pygments_lexer": "ipython3",
   "version": "3.13.7"
  }
 },
 "nbformat": 4,
 "nbformat_minor": 4
}
