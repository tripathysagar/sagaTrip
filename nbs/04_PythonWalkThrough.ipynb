{
 "cells": [
  {
   "cell_type": "markdown",
   "id": "036e7b84",
   "metadata": {},
   "source": [
    "# Python for Programmers: Fast Track to Productivity "
   ]
  },
  {
   "cell_type": "markdown",
   "id": "24f982a1",
   "metadata": {},
   "source": [
    "<div style=\"display: flex; justify-content: space-between; align-items: center;\">\n",
    "  <span>📅 02/10/2025</span>\n",
    "    <p align=\"right\">\n",
    "    <a href=\"https://colab.research.google.com/github/username/repo/blob/main/nbs/04_PythonWalkThrough.ipynb\" target=\"_blank\">\n",
    "        <img src=\"https://colab.research.google.com/assets/colab-badge.svg\" alt=\"Open In Colab\"/>\n",
    "    </a>\n",
    "    </p>\n",
    "</div>\n",
    "\n",
    "\n",
    "If you're an experienced programmer looking to add Python to your toolkit, this guide is for you(writen for my wife who is a JS dev🤫😅). We're skipping the \"what is a variable\" explanations and focusing on what makes Python different and powerful. \n",
    "\n",
    "This comprehensive guide covers the essentials you need to be productive in Python: from basic data types and control flow, through lists and dictionaries, to functions, classes, and exception handling. We'll also touch on Python-specific features like comprehensions and special methods that make the language elegant and expressive.\n",
    "\n",
    "Let's get started. To start execute in collab execeute a cell by using key (`shift` and `enter` or `return`)."
   ]
  },
  {
   "cell_type": "markdown",
   "id": "db4326b9",
   "metadata": {},
   "source": [
    "## Primitive Data Types\n",
    "\n",
    "- **int**: Whole numbers (e.g., 10, -5, 0)\n",
    "- **float**: Decimal numbers (e.g., 10.0, 3.14, -2.5)\n",
    "- **str**: Text/strings (e.g., \"hello\", 'world')\n",
    "- **bool**: True/False values\n",
    "- **NoneType**: Python's null value (None)\n",
    "\n",
    "Using function `type`, we can fetch the type of a variable."
   ]
  },
  {
   "cell_type": "code",
   "execution_count": null,
   "id": "db99e744",
   "metadata": {},
   "outputs": [
    {
     "data": {
      "text/plain": [
       "(int, float, str, bool, NoneType)"
      ]
     },
     "execution_count": 5,
     "metadata": {},
     "output_type": "execute_result"
    }
   ],
   "source": [
    "noi = 10\n",
    "nof = 10.1\n",
    "s = \"i am string\"\n",
    "bool_d = True\n",
    "none_d = None\n",
    "\n",
    "\n",
    "type(noi), type(nof), type(s), type(bool_d), type(none_d)"
   ]
  },
  {
   "cell_type": "markdown",
   "id": "93568803",
   "metadata": {},
   "source": [
    "## Control flows\n",
    "\n",
    "- **Indentation is mandatory** - Python uses whitespace to define code blocks, not just for readability\n",
    "- **Consistent indentation** - All lines at the same block level must have the same indentation\n",
    "- **Standard is 4 spaces** (though tabs work, mixing them causes errors)\n",
    "- **Colon usage** - Control structures end with a colon : before the indented block\n"
   ]
  },
  {
   "cell_type": "markdown",
   "id": "f84971e0",
   "metadata": {},
   "source": [
    "### Conditional statements"
   ]
  },
  {
   "cell_type": "code",
   "execution_count": null,
   "id": "dcc3ef1f",
   "metadata": {},
   "outputs": [
    {
     "name": "stdout",
     "output_type": "stream",
     "text": [
      "Adult\n"
     ]
    }
   ],
   "source": [
    "age = 18\n",
    "if age >= 18:\n",
    "    print(\"Adult\")\n",
    "elif age >= 13:\n",
    "    print(\"Teenager\")\n",
    "else:\n",
    "    print(\"Child\")\n"
   ]
  },
  {
   "cell_type": "markdown",
   "id": "d6a8139c",
   "metadata": {},
   "source": [
    "### Loops"
   ]
  },
  {
   "cell_type": "code",
   "execution_count": null,
   "id": "b028c819",
   "metadata": {},
   "outputs": [
    {
     "name": "stdout",
     "output_type": "stream",
     "text": [
      "For: i=0\n",
      "For: i=1\n",
      "For: i=2\n",
      "While: count=0\n",
      "While: count=1\n",
      "While: count=2\n"
     ]
    }
   ],
   "source": [
    "# For loop\n",
    "for i in range(3):\n",
    "    print(f\"For: {i=}\")\n",
    "\n",
    "# While loop\n",
    "count = 0\n",
    "while count < 3:\n",
    "    print(f\"While: {count=}\")\n",
    "    count += 1\n"
   ]
  },
  {
   "cell_type": "markdown",
   "id": "4d3acab1",
   "metadata": {},
   "source": [
    "## Basic Data Struct\n",
    "**List**: Mutable, ordered collection\n",
    "- Can contain different data types\n",
    "- Supports indexing and slicing\n",
    "- Dynamic sizing (can grow/shrink)\n",
    "- use `list` keyword for init\n",
    "\n",
    "**Dictionary**: Mutable, unordered key-value mapping\n",
    "- Keys must be immutable and unique\n",
    "- Fast key-based lookup\n",
    "- Dynamic sizing\n",
    "- use `dict` keyword for init\n",
    "\n"
   ]
  },
  {
   "cell_type": "markdown",
   "id": "fd7d4d13",
   "metadata": {},
   "source": [
    "### List"
   ]
  },
  {
   "cell_type": "code",
   "execution_count": null,
   "id": "927e36e4",
   "metadata": {},
   "outputs": [
    {
     "name": "stdout",
     "output_type": "stream",
     "text": [
      "lis=[1, 2, 3, 4]\n",
      "lenght of the lis : 4\n",
      "lis[0]=1\n"
     ]
    }
   ],
   "source": [
    "lis = list([1, 2, 3, 4])\n",
    "print(f\"{lis=}\")\n",
    "print(f\"lenght of the lis : {len(lis)}\")\n",
    "# indexing starting for 0\n",
    "print(f\"{lis[0]=}\")\n",
    "\n"
   ]
  },
  {
   "cell_type": "code",
   "execution_count": null,
   "id": "b66b132b",
   "metadata": {},
   "outputs": [
    {
     "name": "stdout",
     "output_type": "stream",
     "text": [
      "lis=[1, 2, 3, 4, 5]\n"
     ]
    }
   ],
   "source": [
    "# adding new element to the list\n",
    "lis.append(5)\n",
    "print(f\"{lis=}\")"
   ]
  },
  {
   "cell_type": "code",
   "execution_count": null,
   "id": "a67fa190",
   "metadata": {},
   "outputs": [
    {
     "name": "stdout",
     "output_type": "stream",
     "text": [
      "lis1=[1, 2, 3, 4, 5, 6, 7]\n"
     ]
    }
   ],
   "source": [
    "lis2 = [6, 7]\n",
    "lis1 = lis + lis2\n",
    "print(f\"{lis1=}\")"
   ]
  },
  {
   "cell_type": "code",
   "execution_count": null,
   "id": "2bc47d23",
   "metadata": {},
   "outputs": [
    {
     "name": "stdout",
     "output_type": "stream",
     "text": [
      "lis1[1:4]=[2, 3, 4]\n"
     ]
    }
   ],
   "source": [
    "# Get a portion of the list\n",
    "print(f\"{lis1[1:4]=}\")  # elements from index 1 to 3"
   ]
  },
  {
   "cell_type": "code",
   "execution_count": null,
   "id": "cbc1b708",
   "metadata": {},
   "outputs": [
    {
     "name": "stdout",
     "output_type": "stream",
     "text": [
      "lis=[1, 2, 3, 4, 5]\n",
      "lis=[99, 1, 2, 3, 4, 5]\n"
     ]
    }
   ],
   "source": [
    "print(f\"{lis=}\")\n",
    "lis.insert(0, 99) # inserting value at the perticular index\n",
    "print(f\"{lis=}\")\n"
   ]
  },
  {
   "cell_type": "code",
   "execution_count": null,
   "id": "cde81444",
   "metadata": {},
   "outputs": [
    {
     "name": "stdout",
     "output_type": "stream",
     "text": [
      "lis=[99, 1, 2, 3, 4, 5]\n",
      "5\n",
      "lis=[99, 1, 2, 3, 4]\n"
     ]
    }
   ],
   "source": [
    "print(f\"{lis=}\")\n",
    "print(lis.pop()) # remove last element\n",
    "print(f\"{lis=}\")\n"
   ]
  },
  {
   "cell_type": "code",
   "execution_count": null,
   "id": "5a98ed99",
   "metadata": {},
   "outputs": [
    {
     "name": "stdout",
     "output_type": "stream",
     "text": [
      "lis=[99, 1, 2, 3, 4]\n",
      "None\n",
      "lis=[99, 1, 3, 4]\n"
     ]
    }
   ],
   "source": [
    "print(f\"{lis=}\")\n",
    "print(lis.remove(2)) # remove the 2nd element\n",
    "print(f\"{lis=}\")\n"
   ]
  },
  {
   "cell_type": "markdown",
   "id": "16ff95cf",
   "metadata": {},
   "source": [
    "### Dictionary"
   ]
  },
  {
   "cell_type": "code",
   "execution_count": null,
   "id": "db853033",
   "metadata": {},
   "outputs": [
    {
     "data": {
      "text/plain": [
       "{'a': 1, 'b': 2}"
      ]
     },
     "execution_count": 25,
     "metadata": {},
     "output_type": "execute_result"
    }
   ],
   "source": [
    "dic = dict({'a':1, 'b':2})\n",
    "dic\n"
   ]
  },
  {
   "cell_type": "code",
   "execution_count": null,
   "id": "6fe65ca5",
   "metadata": {},
   "outputs": [
    {
     "name": "stdout",
     "output_type": "stream",
     "text": [
      "dic={'a': 1, 'b': 2}\n",
      "dic['a']=1\n"
     ]
    }
   ],
   "source": [
    "dic = dict({'a':1, 'b':2}) # can be written as like {'a':1, 'b':2} without dict\n",
    "print(f\"{dic=}\")\n",
    "print(f\"{dic['a']=}\")     # indexing the dictionary with a key value\n"
   ]
  },
  {
   "cell_type": "code",
   "execution_count": null,
   "id": "bfd9f7f1",
   "metadata": {},
   "outputs": [
    {
     "name": "stdout",
     "output_type": "stream",
     "text": [
      "dic={'a': 1, 'b': 2, 'c': 3}\n"
     ]
    }
   ],
   "source": [
    "# adding new entry to the dictionay\n",
    "dic['c'] = 3\n",
    "print(f\"{dic=}\")"
   ]
  },
  {
   "cell_type": "code",
   "execution_count": null,
   "id": "f9194314",
   "metadata": {},
   "outputs": [
    {
     "name": "stdout",
     "output_type": "stream",
     "text": [
      "dic={'a': 1, 'b': 2, 'c': 3}\n",
      "dic.pop('c')=3\n",
      "dic={'a': 1, 'b': 2}\n"
     ]
    }
   ],
   "source": [
    "print(f\"{dic=}\")\n",
    "print(f\"{dic.pop('c')=}\")\n",
    "print(f\"{dic=}\")\n"
   ]
  },
  {
   "cell_type": "markdown",
   "id": "ea68ac20",
   "metadata": {},
   "source": [
    "Iterating wrt the Dictionary keys"
   ]
  },
  {
   "cell_type": "code",
   "execution_count": null,
   "id": "5e7b91d4",
   "metadata": {},
   "outputs": [
    {
     "name": "stdout",
     "output_type": "stream",
     "text": [
      "k='a' -> dic[k]=1\n",
      "k='b' -> dic[k]=2\n"
     ]
    }
   ],
   "source": [
    "for k in dic.keys():\n",
    "    print(f\"{k=} -> {dic[k]=}\")"
   ]
  },
  {
   "cell_type": "markdown",
   "id": "69055dea",
   "metadata": {},
   "source": [
    "Just fetching the values in the Dictionary"
   ]
  },
  {
   "cell_type": "code",
   "execution_count": null,
   "id": "fb8575de",
   "metadata": {},
   "outputs": [
    {
     "name": "stdout",
     "output_type": "stream",
     "text": [
      "v=1\n",
      "v=2\n"
     ]
    }
   ],
   "source": [
    "for v in dic.values():\n",
    "    print(f\"{v=}\")"
   ]
  },
  {
   "cell_type": "markdown",
   "id": "ce742c0f",
   "metadata": {},
   "source": [
    "iterating wrt both key and values without explicitly indexing"
   ]
  },
  {
   "cell_type": "code",
   "execution_count": null,
   "id": "32d4b4e7",
   "metadata": {},
   "outputs": [
    {
     "name": "stdout",
     "output_type": "stream",
     "text": [
      "k='a' -> v=1\n",
      "k='b' -> v=2\n"
     ]
    }
   ],
   "source": [
    "for k, v in dic.items():\n",
    "    print(f\"{k=} -> {v=}\")"
   ]
  },
  {
   "cell_type": "code",
   "execution_count": null,
   "id": "fceee3ae",
   "metadata": {},
   "outputs": [
    {
     "data": {
      "text/plain": [
       "'does not exists'"
      ]
     },
     "execution_count": 39,
     "metadata": {},
     "output_type": "execute_result"
    }
   ],
   "source": [
    "#Safe key access uncommnet the below line and run\n",
    "#print(dic['c'])\n",
    "dic.get('item', \"does not exists\")"
   ]
  },
  {
   "cell_type": "code",
   "execution_count": null,
   "id": "4c7af011",
   "metadata": {},
   "outputs": [
    {
     "name": "stdout",
     "output_type": "stream",
     "text": [
      "dic={'a': 1000, 'b': 2}\n"
     ]
    }
   ],
   "source": [
    "# update a perticular value of a given key\n",
    "dic['a'] = 1000\n",
    "print(f\"{dic=}\")"
   ]
  },
  {
   "cell_type": "markdown",
   "id": "d5754487",
   "metadata": {},
   "source": [
    "There are couple of other Data struct below are those:\n",
    "- **Tuple**: immutable list,[ref](https://docs.python.org/3/library/stdtypes.html#tuple)\n",
    "- **Set**: As name suggest it will store object, [ref](https://docs.python.org/3/library/stdtypes.html#set)"
   ]
  },
  {
   "cell_type": "markdown",
   "id": "622ea88d",
   "metadata": {},
   "source": [
    "## List and Dictionary comprehension\n",
    "It is more consise way to build `list` and `dict` with explicitly using those key words. First I will create a list from 0 to 10, then filter out only the positive number."
   ]
  },
  {
   "cell_type": "code",
   "execution_count": null,
   "id": "a432ea0a",
   "metadata": {},
   "outputs": [
    {
     "data": {
      "text/plain": [
       "[0, 1, 2, 3, 4, 5, 6, 7, 8, 9]"
      ]
     },
     "execution_count": 43,
     "metadata": {},
     "output_type": "execute_result"
    }
   ],
   "source": [
    "lis = list(range(10))\n",
    "lis"
   ]
  },
  {
   "cell_type": "code",
   "execution_count": null,
   "id": "6ad0d9d6",
   "metadata": {},
   "outputs": [
    {
     "data": {
      "text/plain": [
       "([0, 2, 4, 6, 8], [1, 3, 5, 7, 9])"
      ]
     },
     "execution_count": 45,
     "metadata": {},
     "output_type": "execute_result"
    }
   ],
   "source": [
    "odd = [i for i in lis if i % 2]\n",
    "even = [i for i in lis if not i % 2 ]\n",
    "even, odd"
   ]
  },
  {
   "cell_type": "code",
   "execution_count": null,
   "id": "3ff2d9a5",
   "metadata": {},
   "outputs": [
    {
     "data": {
      "text/plain": [
       "{'A': 0, 'B': 1, 'C': 2, 'D': 3, 'E': 4}"
      ]
     },
     "execution_count": 47,
     "metadata": {},
     "output_type": "execute_result"
    }
   ],
   "source": [
    "dic = {chr(65 + i): i for i in range(5)}\n",
    "dic"
   ]
  },
  {
   "cell_type": "markdown",
   "id": "6c26476f",
   "metadata": {},
   "source": [
    "## Function\n",
    "- starts with key word `def`\n",
    "- it should have a have and a list of args\n",
    "- we can add in types in the function definations, it will be used for type hinting. The compile don't enforce types at runtime. The function accepts any types that support the + operator, even though we hinted int\n"
   ]
  },
  {
   "cell_type": "code",
   "execution_count": null,
   "id": "0ad2fa4f",
   "metadata": {},
   "outputs": [
    {
     "name": "stdout",
     "output_type": "stream",
     "text": [
      "Hello world\n"
     ]
    }
   ],
   "source": [
    "def func():\n",
    "    print(\"Hello world\")\n",
    "func()"
   ]
  },
  {
   "cell_type": "code",
   "execution_count": null,
   "id": "c3b13654",
   "metadata": {},
   "outputs": [
    {
     "name": "stdout",
     "output_type": "stream",
     "text": [
      "11\n",
      "10\n",
      "10.5\n",
      "10.50\n"
     ]
    }
   ],
   "source": [
    "def add(a:int, b:int=0):\n",
    "    return a+b\n",
    "print(add(10, 1))\n",
    "print(add(10))          # here b is defults to 0\n",
    "print(add(10.5, 0))\n",
    "print(add('10.5', '0')) "
   ]
  },
  {
   "cell_type": "markdown",
   "id": "7e2e0591",
   "metadata": {},
   "source": [
    "**A gotcha** By defult the function returns `None`. One should be keep those in mind."
   ]
  },
  {
   "cell_type": "code",
   "execution_count": null,
   "id": "cd4bca97",
   "metadata": {},
   "outputs": [
    {
     "name": "stdout",
     "output_type": "stream",
     "text": [
      "x=10"
     ]
    },
    {
     "name": "stdout",
     "output_type": "stream",
     "text": [
      "\n",
      "result=None\n"
     ]
    }
   ],
   "source": [
    "def show(x):\n",
    "    print(f\"{x=}\")\n",
    "\n",
    "result = show(10)\n",
    "print(f\"{result=}\")"
   ]
  },
  {
   "cell_type": "markdown",
   "id": "597f5b6d",
   "metadata": {},
   "source": [
    "## Class\n",
    "- Used for bundling objects and functions\n",
    "- Creating new objects creates a new instance of the class\n",
    "- Each function have should have a reference to itself usally repesented by `self`\n",
    "- Helper functions wrapped in `__` that need to be followed for special functionality below are few and respective usages\n",
    "\n",
    "\n",
    "    | name | functionality |\n",
    "    |-----| -----|\n",
    "    |`__init__`| Constructor called when creating a new instance, initializes attributes |\n",
    "    |`__repr__` and `__str__` | String representation of a class object (__repr__ for developers, __str__ for end users) |\n",
    "    |`__iter__` | Returns an iterator object, makes the class iterable |\n",
    "    |`__next__` | Fetches the next item from the iterator, raises `StopIteration` when done |\n",
    "    |`__getattr__` | Called when accessing an attribute that doesn't exist | \n",
    "    |`__getitem__`| Enables indexing and slicing (e.g., `obj[key]`) |\n",
    "    |`__setattr__`| Called when setting an attribute (e.g., `obj.attr = value`) |\n",
    "    |`__setitem__`|Enables item assignment (e.g., `obj[key] = value`)|\n",
    "    |`__del__`| Destructor called when object is about to be destroyed |\n",
    "    |`__new__`| Creates and returns a new instance before `__init__` is called|\n",
    "    |`__enter__`| Called when entering a context manager (`with` statement)|\n",
    "    |`__exit__`|Called when exiting a context manager, handles cleanup|\n",
    "\n",
    "    \n",
    "    \n",
    "    Complete docs are present in [docs](https://docs.python.org/3/reference/datamodel.html#special-method-names)\n",
    "- Classes also suppourt inheritace, a base example can be found [here](https://docs.python.org/3/tutorial/classes.html#inheritance)"
   ]
  },
  {
   "cell_type": "code",
   "execution_count": null,
   "id": "e39ba98f",
   "metadata": {},
   "outputs": [
    {
     "name": "stdout",
     "output_type": "stream",
     "text": [
      "init is called\n",
      "10 [0, 1, 2, 3, 4]\n",
      "len(li)=10\n"
     ]
    }
   ],
   "source": [
    "class L:\n",
    "    def __init__(self, lis):\n",
    "        print(f\"init is called\")\n",
    "        self.lis = lis\n",
    "    \n",
    "    def __str__(self):\n",
    "        # it return length of the lis along with first 5 element\n",
    "        return f\"{len(self.lis)} {self.lis[:5]}\"\n",
    "    \n",
    "    def __len__(self):\n",
    "        return len(self.lis)\n",
    "\n",
    "li = L(list(range(10)))\n",
    "print(li)\n",
    "print(f\"{len(li)=}\")"
   ]
  },
  {
   "cell_type": "markdown",
   "id": "aaba2211",
   "metadata": {},
   "source": [
    "Monkey patching is dynamically modifying a class or module at runtime by adding, replacing, or modifying its attributes or methods. While powerful, it should be used cautiously as it can make code harder to understand and maintain. "
   ]
  },
  {
   "cell_type": "code",
   "execution_count": null,
   "id": "c9a53385",
   "metadata": {},
   "outputs": [
    {
     "name": "stdout",
     "output_type": "stream",
     "text": [
      "0 1 2 3 4 5 6 7 8 9 "
     ]
    }
   ],
   "source": [
    "def iter(self):\n",
    "    for i in self.lis:\n",
    "        yield i\n",
    "\n",
    "# monkey patching \n",
    "L.__iter__ = iter\n",
    "\n",
    "for i in li:\n",
    "    print(i, end=\" \")"
   ]
  },
  {
   "cell_type": "code",
   "execution_count": null,
   "id": "1df19f52",
   "metadata": {},
   "outputs": [
    {
     "name": "stdout",
     "output_type": "stream",
     "text": [
      "li[0]=-100\n"
     ]
    },
    {
     "data": {
      "text/plain": [
       "'10 [-100, 1, 2, 3, 4]'"
      ]
     },
     "execution_count": 70,
     "metadata": {},
     "output_type": "execute_result"
    }
   ],
   "source": [
    "def get_item(self, key):\n",
    "    return self.lis[key]\n",
    "\n",
    "def set_item(self, key, val):\n",
    "    self.lis[key] = val\n",
    "\n",
    "\n",
    "# monkey patching \n",
    "L.__getitem__ = get_item\n",
    "L.__setitem__ = set_item\n",
    "\n",
    "li[0] = -100\n",
    "print(f\"{li[0]=}\")\n",
    "str(li)"
   ]
  },
  {
   "cell_type": "markdown",
   "id": "1211d244",
   "metadata": {},
   "source": [
    "## Exception Handling\n",
    "\n",
    "- **Purpose**: Gracefully handle errors instead of crashing the program\n",
    "- **try block**: Contains code that might raise an exception\n",
    "- **except block**: Catches and handles specific exceptions\n",
    "- **Multiple except blocks**: Can catch different exception types separately\n",
    "- **Exception as e**: Captures the exception object for inspection\n",
    "- **finally block** (optional): Always executes, regardless of exceptions (useful for cleanup like closing files)\n",
    "- **Raising exceptions**: Use `raise` to throw exceptions intentionally\n",
    "- **Common built-in exceptions**: `ValueError`, `TypeError`, `KeyError`, `IndexError`, `FileNotFoundError`, `ZeroDivisionError`\n"
   ]
  },
  {
   "cell_type": "code",
   "execution_count": null,
   "id": "7c1ebaa6",
   "metadata": {},
   "outputs": [
    {
     "name": "stdout",
     "output_type": "stream",
     "text": [
      "Cannot divide by zero!\n",
      "This always runs, error or not\n"
     ]
    }
   ],
   "source": [
    "try:\n",
    "    result = 10 / 0  # This will raise ZeroDivisionError\n",
    "    print(f\"{result=}\")\n",
    "except ZeroDivisionError:\n",
    "    print(\"Cannot divide by zero!\")\n",
    "except Exception as e:\n",
    "    print(f\"An error occurred: {e}\")\n",
    "finally:\n",
    "    print(\"This always runs, error or not\")\n"
   ]
  },
  {
   "cell_type": "markdown",
   "id": "9de04a76",
   "metadata": {},
   "source": [
    "##  Conclusion\n",
    "- We have covered some basic part of Python programming language\n",
    "- The language is vast there is many other stuff are not covered below are few other imp for reference\n",
    "    1. [**File I/O**](https://realpthon.com/read-write-files-python/) :  Reading and writing files (especially the with statement for context managers)\n",
    "    1. [**Lambda function**](https://realpython.com/python-lambda/) : Anonymous functions for quick operations\n",
    "    1. [**Decorators**](https://realpython.com/primer-on-python-decorators/) :  A Python-specific feature that's commonly used in frameworks\n",
    "    1. [**Generators**](https://realpython.com/introduction-to-python-generators/) : generator for effienct way to iterate\n",
    "- There are many awsome stuff which I have not included, hope this blog acts as a launchpad for your python learning journey\n"
   ]
  },
  {
   "cell_type": "markdown",
   "id": "317566eb",
   "metadata": {},
   "source": []
  }
 ],
 "metadata": {
  "language_info": {
   "name": "python"
  }
 },
 "nbformat": 4,
 "nbformat_minor": 5
}
