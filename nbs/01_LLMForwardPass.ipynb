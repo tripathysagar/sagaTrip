{
 "cells": [
  {
   "cell_type": "markdown",
   "id": "7b2f44b7",
   "metadata": {},
   "source": [
    "# The Magic Behind the Curtain: How LLMs Actually Generate Text\n",
    "\n",
    "Ever wondered what happens when you type \"The cat is\" and an AI completes it with something like \"sitting on the windowsill\"? You're about to peek behind the curtain and see exactly how Large Language Models think, predict, and generate text - one token at a time.\n",
    "\n",
    "## What We'll Discover\n",
    "\n",
    "In this hands-on journey, we'll build our own mini text generator and watch it work in real-time. You'll see:\n",
    "- How text becomes numbers (and back again)\n",
    "- Why the model considers 49,152 possibilities for every single word\n",
    "- How controlled randomness prevents boring, repetitive responses\n",
    "- The simple loop that powers every AI conversation\n",
    "\n",
    "Ready to demystify the magic? Let's dive in!"
   ]
  },
  {
   "cell_type": "markdown",
   "id": "f0c2b129",
   "metadata": {},
   "source": [
    "## setup"
   ]
  },
  {
   "cell_type": "code",
   "execution_count": null,
   "id": "0d7f30f3",
   "metadata": {},
   "outputs": [],
   "source": [
    "from transformers import AutoModelForCausalLM, AutoTokenizer\n",
    "model_name = 'HuggingFaceTB/SmolLM2-135M-Instruct'\n",
    "tokenizer = AutoTokenizer.from_pretrained(model_name)\n",
    "model = AutoModelForCausalLM.from_pretrained(model_name)"
   ]
  },
  {
   "cell_type": "markdown",
   "id": "e6dd88e9",
   "metadata": {},
   "source": [
    "## Tokenization\n",
    "Tokenization is a fundamental step in text processing and natural language processing (NLP).\n",
    "A tokenizer breaks down text into smaller, meaningful units called \"tokens.\" Think of it like taking a sentence and splitting it into individual words, or even smaller pieces depending on your needs.\n",
    "For example, the sentence \"Hello, world!\" might be tokenized into:\n",
    "\n",
    "1. [\"Hello\", \",\", \"world\", \"!\"] (word-level tokens)\n",
    "1. Or even [\"Hel\", \"lo\", \",\", \"wor\", \"ld\", \"!\"] (subword tokens)"
   ]
  },
  {
   "cell_type": "code",
   "execution_count": null,
   "id": "7f483bb9",
   "metadata": {},
   "outputs": [
    {
     "data": {
      "text/plain": [
       "{'input_ids': [504, 2644, 314, 216], 'attention_mask': [1, 1, 1, 1]}"
      ]
     },
     "execution_count": 6,
     "metadata": {},
     "output_type": "execute_result"
    }
   ],
   "source": [
    "text = \"The cat is \"\n",
    "tokens = tokenizer(text)\n",
    "tokens"
   ]
  },
  {
   "cell_type": "markdown",
   "id": "fa8b5322",
   "metadata": {},
   "source": [
    "- input_ids: These are the numerical IDs that represent each token - this is what the model actually processes\n",
    "- attention_mask: Other inputs required for the model, let's ignore it for now"
   ]
  },
  {
   "cell_type": "code",
   "execution_count": null,
   "id": "8c3d6c86",
   "metadata": {},
   "outputs": [
    {
     "data": {
      "text/plain": [
       "['The', ' cat', ' is', ' ']"
      ]
     },
     "execution_count": 8,
     "metadata": {},
     "output_type": "execute_result"
    }
   ],
   "source": [
    "# to get back token str from the tokens\n",
    "[tokenizer.decode([token_id]) for token_id in tokens['input_ids']]"
   ]
  },
  {
   "cell_type": "markdown",
   "id": "6d09e03e",
   "metadata": {},
   "source": [
    "**Token breakdown:**\n",
    "1. `'The', ' cat', ' sat', ' '`: other words and their corresponding representations. We can see that the tokenizer doesn't just split on spaces. It learns patterns from training data, so spaces become part of tokens (except the first word).\n",
    "\n",
    "**Why Subword Tokenization?**\n",
    "You might wonder why \"cat\" becomes \" cat\" (with a space). Modern tokenizers use \"subword\" tokenization - they learn common patterns from millions of texts. A space before a word often signals it's a separate concept, so the tokenizer treats \" cat\" as one unit. This helps the model understand word boundaries and context better than just splitting on spaces.\n"
   ]
  },
  {
   "cell_type": "code",
   "execution_count": null,
   "id": "3b7eda33",
   "metadata": {},
   "outputs": [
    {
     "name": "stdout",
     "output_type": "stream",
     "text": [
      "{'bos_token': '<|im_start|>', 'eos_token': '<|im_end|>', 'unk_token': '<|endoftext|>', 'pad_token': '<|im_end|>', 'additional_special_tokens': ['<|im_start|>', '<|im_end|>']}\n",
      "49152\n"
     ]
    }
   ],
   "source": [
    "print(tokenizer.special_tokens_map)\n",
    "print(tokenizer.vocab_size)"
   ]
  },
  {
   "cell_type": "markdown",
   "id": "987d03a4",
   "metadata": {},
   "source": [
    "There are `49152` unique tokens are there in the tokenizer."
   ]
  },
  {
   "cell_type": "markdown",
   "id": "f1ed6d1e",
   "metadata": {},
   "source": [
    "## The Foundation: From Words to Numbers\n",
    "\n",
    "The Model's Internal Thinking Process\n",
    "When you see those logits numbers, you're literally looking at the model's \"thoughts\"! Each position in our input gets its own set of predictions. The model isn't just guessing the next word - it's considering what could come after EVERY position. But for text generation, we only care about the very last position (after \" is\").\n",
    "\n",
    "We have converted the `text` to tokens and will use them to get the next token from the model."
   ]
  },
  {
   "cell_type": "code",
   "execution_count": null,
   "id": "71b7f94a",
   "metadata": {},
   "outputs": [],
   "source": [
    "import torch\n",
    "input_tensor = torch.tensor([tokens['input_ids']]) # as the model needs ptorch tensor as input\n",
    "op = model(input_tensor)"
   ]
  },
  {
   "cell_type": "markdown",
   "id": "a1b41ad3",
   "metadata": {},
   "source": [
    "We have to focus on `logits` for now and can ignore all other parts. "
   ]
  },
  {
   "cell_type": "code",
   "execution_count": null,
   "id": "479e712e",
   "metadata": {},
   "outputs": [
    {
     "data": {
      "text/plain": [
       "tensor([[[16.3669,  8.8479, 12.6537,  ..., 10.0735, 13.1624,  5.4319],\n",
       "         [19.1141, 12.7332, 15.7778,  ..., 20.1228, 19.1875, 10.3858],\n",
       "         [10.1939,  1.3824,  4.2152,  ..., 13.2681, 12.5120,  2.1723],\n",
       "         [16.5672,  7.1412, 11.3807,  ..., 14.1004, 13.9356,  7.9265]]],\n",
       "       grad_fn=<UnsafeViewBackward0>)"
      ]
     },
     "execution_count": 14,
     "metadata": {},
     "output_type": "execute_result"
    }
   ],
   "source": [
    "op.logits"
   ]
  },
  {
   "cell_type": "code",
   "execution_count": null,
   "id": "c3f4e6be",
   "metadata": {},
   "outputs": [
    {
     "data": {
      "text/plain": [
       "torch.Size([1, 4, 49152])"
      ]
     },
     "execution_count": 16,
     "metadata": {},
     "output_type": "execute_result"
    }
   ],
   "source": [
    "op.logits.shape"
   ]
  },
  {
   "cell_type": "markdown",
   "id": "3a3daeaa",
   "metadata": {},
   "source": [
    "**Why So Many Numbers?**\n",
    "49,152 might seem like overkill, but remember - the model has to consider EVERY possible token it knows. This includes common words like \"happy\", rare words like \"sesquipedalian\", numbers, punctuation, and even tokens from other languages. Most will have very low scores, but the model still evaluates them all.\n"
   ]
  },
  {
   "cell_type": "code",
   "execution_count": null,
   "id": "64b5db09",
   "metadata": {},
   "outputs": [
    {
     "name": "stdout",
     "output_type": "stream",
     "text": [
      "Logits shape: torch.Size([1, 4, 49152])\n",
      "Shape breakdown: [Batch_size, Sequence_length, Vocab_size]\n",
      "[1, 4, 49152]\n",
      "- Batch: 1 text(s) processed\n",
      "- Sequence: 4 tokens in input\n",
      "- Vocab: 49,152 possible next tokens\n"
     ]
    }
   ],
   "source": [
    "print(f\"Logits shape: {op.logits.shape}\")\n",
    "print(\"Shape breakdown: [Batch_size, Sequence_length, Vocab_size]\")\n",
    "print(f\"[{op.logits.shape[0]}, {op.logits.shape[1]}, {op.logits.shape[2]}]\")\n",
    "print(f\"- Batch: {op.logits.shape[0]} text(s) processed\")\n",
    "print(f\"- Sequence: {op.logits.shape[1]} tokens in input\") \n",
    "print(f\"- Vocab: {op.logits.shape[2]:,} possible next tokens\")\n"
   ]
  },
  {
   "cell_type": "markdown",
   "id": "3efda6f4",
   "metadata": {},
   "source": [
    "## 49,152 Possibilities: Watching the Model Think From Raw Scores to Probabilities\n",
    "1. Converting logits to probabilities using softmax\n",
    "1. Demonstrating why we can't just pick the highest logit every time\n",
    "1. A simple example of sampling vs greedy selection"
   ]
  },
  {
   "cell_type": "code",
   "execution_count": null,
   "id": "4f0daded",
   "metadata": {},
   "outputs": [
    {
     "name": "stdout",
     "output_type": "stream",
     "text": [
      "predicted_token_id : 33\n",
      "next token : `1`\n"
     ]
    }
   ],
   "source": [
    "# Extract logits for the last token position (where next token will be predicted)\n",
    "last_token_logits = op.logits[:, -1, :]  # Shape: [1, 262144]\n",
    "\n",
    "# Find the token with highest probability (greedy selection)\n",
    "predicted_token_id = last_token_logits.argmax(dim=-1)  # Gets index of max value\n",
    "\n",
    "# convert the id to token\n",
    "next_token = tokenizer.decode(predicted_token_id)\n",
    "\n",
    "print(f\"predicted_token_id : {predicted_token_id.item()}\")\n",
    "print(f\"next token : `{next_token}`\")"
   ]
  },
  {
   "cell_type": "markdown",
   "id": "b6f1b4ab",
   "metadata": {},
   "source": [
    "## The Art of Selection: Why Randomness Matters\n",
    "So far, we've done text to predictions. But here's the thing - if we always select the token with the highest logit score (greedy selection), our model becomes predictable and boring. It's like having a conversation with someone who always gives the most obvious response!\n",
    "\n",
    "This is where sampling comes in. Instead of always picking the #1 choice, large language models introduce some randomness by selecting from the top-K highest scoring tokens, where K is a number we can control.\n",
    "\n",
    "There are two parameters are used, below are \n",
    "1. Temperature is like a creativity dial: 0.1 = very predictable, 1.5 = very creative\n",
    "1. Top-k means 'only consider the k most likely tokens' - saves computation and improves quality"
   ]
  },
  {
   "cell_type": "code",
   "execution_count": null,
   "id": "546b8dc0",
   "metadata": {},
   "outputs": [],
   "source": [
    "\n",
    "import torch.nn.functional as F\n",
    "\n",
    "def generate_next_token(text, temperature=1.0, top_k=50):\n",
    "    \"\"\"Simple function to show one step of text generation\"\"\"\n",
    "    # Tokenize input\n",
    "    tokens = tokenizer(text, return_tensors=\"pt\")\n",
    "    \n",
    "    # Get model predictions\n",
    "    with torch.no_grad():\n",
    "        outputs = model(**tokens)\n",
    "    \n",
    "    # Get logits for next token prediction\n",
    "    next_token_logits = outputs.logits[0, -1, :] / temperature\n",
    "    \n",
    "    # Get top-k most likely tokens\n",
    "    top_logits, top_indices = torch.topk(next_token_logits, top_k)\n",
    "    \n",
    "    # Convert to probabilities and sample \n",
    "    probs = F.softmax(top_logits, dim=-1)\n",
    "\n",
    "    # randomly sample from all the probabilities\n",
    "    next_token_idx = torch.multinomial(probs, 1)\n",
    "    \n",
    "    next_token_id = top_indices[next_token_idx]\n",
    "    \n",
    "    return tokenizer.decode(next_token_id)"
   ]
  },
  {
   "cell_type": "code",
   "execution_count": null,
   "id": "57374aec",
   "metadata": {},
   "outputs": [
    {
     "data": {
      "text/plain": [
       "[' very', ' a', ' standing', ' also']"
      ]
     },
     "execution_count": 24,
     "metadata": {},
     "output_type": "execute_result"
    }
   ],
   "source": [
    "[generate_next_token(\"The cat is\", 0.7) for _ in range(4)]"
   ]
  },
  {
   "cell_type": "markdown",
   "id": "232c351a",
   "metadata": {},
   "source": [
    "Notice how we get different tokens each time? That's the beauty of sampling - it prevents boring, repetitive text! Think of temp as a awesome lever to select random tokens where is top_p is for setting up the window to consider."
   ]
  },
  {
   "cell_type": "markdown",
   "id": "6031f629",
   "metadata": {},
   "source": [
    "## Putting It All Together: Building Our Generator\n",
    "We have to add in new tokens to the end of the text and pass it to the model. "
   ]
  },
  {
   "cell_type": "code",
   "execution_count": null,
   "id": "649c605e",
   "metadata": {},
   "outputs": [],
   "source": [
    "def generate_text(prompt, max_tokens=10):\n",
    "    current_text = prompt\n",
    "    for i in range(max_tokens):\n",
    "        next_token = generate_next_token(current_text, temperature=0.7)\n",
    "        current_text += next_token\n",
    "        print(f\"Step {i+1}: {current_text}\")\n",
    "    return current_text"
   ]
  },
  {
   "cell_type": "code",
   "execution_count": null,
   "id": "bb940a6c",
   "metadata": {},
   "outputs": [
    {
     "name": "stdout",
     "output_type": "stream",
     "text": [
      "Step 1: The cat is 1\n",
      "Step 2: The cat is 10\n",
      "Step 3: The cat is 100\n"
     ]
    },
    {
     "name": "stdout",
     "output_type": "stream",
     "text": [
      "Step 4: The cat is 100%\n"
     ]
    },
    {
     "data": {
      "text/plain": [
       "'The cat is 100%'"
      ]
     },
     "execution_count": 32,
     "metadata": {},
     "output_type": "execute_result"
    }
   ],
   "source": [
    "generate_text(text, 4)"
   ]
  },
  {
   "cell_type": "markdown",
   "id": "fbd9794c",
   "metadata": {},
   "source": [
    "## The Magic Revealed: What We've Learned\n",
    "\n",
    "Congratulations! You've just built and understood the core engine that powers every large language model. What seemed like magic is actually a surprisingly elegant process:\n",
    "\n",
    "**The Complete Picture:**\n",
    "\n",
    "\n",
    "1. **Text becomes numbers** - Tokenization converts human language into mathematical representations\n",
    "2. **Pattern recognition at scale** - The model evaluates 49,152 possibilities for every single prediction\n",
    "3. **Controlled randomness** - Temperature and top-k sampling prevent boring, repetitive outputs\n",
    "4. **Iterative generation** - This simple loop repeats to create coherent, contextual text\n",
    "\n",
    "**Why This Matters:**\n",
    "Every time you chat with ChatGPT, Claude, or any AI assistant, this exact process runs behind the scenes. The model isn't \"thinking\" in human terms - it's performing incredibly sophisticated pattern matching based on billions of text examples it learned from.\n",
    "\n",
    "**The Bigger Picture:**\n",
    "This same fundamental process scales from our tiny 135M parameter model to massive systems with hundreds of billions of parameters. The core loop remains the same: predict, sample, add, repeat.\n",
    "\n",
    "Understanding this gives you insight into why LLMs sometimes hallucinate (they're optimizing for plausible patterns, not truth), why they can be creative (controlled randomness), and why context matters so much (each prediction builds on everything before it).\n"
   ]
  },
  {
   "cell_type": "markdown",
   "id": "fcea9c48",
   "metadata": {},
   "source": []
  }
 ],
 "metadata": {
  "language_info": {
   "name": "python"
  }
 },
 "nbformat": 4,
 "nbformat_minor": 5
}
