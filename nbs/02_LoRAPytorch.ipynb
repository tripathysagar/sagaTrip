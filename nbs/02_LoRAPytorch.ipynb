{
 "cells": [
  {
   "cell_type": "markdown",
   "id": "bd599379",
   "metadata": {},
   "source": [
    "# LoRA Explained: Fine-Tune Large Models with 90% Fewer Parameters\n"
   ]
  },
  {
   "cell_type": "markdown",
   "id": "63c598b0",
   "metadata": {},
   "source": [
    "<p align=\"right\">\n",
    "  <a href=\"https://colab.research.google.com/github/tripathysagar/sagaTrip/blob/main/nbs/02_LoRAPytorch.ipynb\" target=\"_blank\">\n",
    "    <img src=\"https://colab.research.google.com/assets/colab-badge.svg\" alt=\"Open In Colab\"/>\n",
    "  </a>\n",
    "</p>\n",
    "\n",
    "\n",
    "*A hands-on guide to Parameter-Efficient Fine-Tuning using Low-Rank Adaptation*\n",
    "\n",
    "What if you could adapt a large neural network to new tasks while only training 7% of its parameters? Low-Rank Adaptation (LoRA) makes this possible by cleverly decomposing weight updates into smaller matrices. \n",
    "\n",
    "In this tutorial, we'll build LoRA from scratch using PyTorch, demonstrate it on MNIST classification, and show why it's revolutionizing how we fine-tune large language models.\n",
    "\n",
    "**What you'll learn:**\n",
    "- The mathematical intuition behind low-rank decomposition\n",
    "- How to implement LoRA adapters in PyTorch\n",
    "- Why LoRA prevents catastrophic forgetting\n",
    "- Practical tips for hyperparameter tuning (rank, alpha)\n",
    "- How to save and load multiple task-specific adapters\n"
   ]
  },
  {
   "cell_type": "markdown",
   "id": "a96f7b4c",
   "metadata": {},
   "source": [
    "When we fine tune the model, we update all the paramets of the weights. Which might lead to catastrophic forgettign and overfitting. By  this method we can update only a subset of the parameters. If you are awaare of resnet block, you can think of LoRA weights are main path and the original model is the identity path. By training we eventually learn wrt the new weights added to the model."
   ]
  },
  {
   "cell_type": "code",
   "execution_count": null,
   "id": "f8d11163",
   "metadata": {},
   "outputs": [],
   "source": [
    "import torch\n",
    "from torch import Tensor\n",
    "import torch.nn as nn"
   ]
  },
  {
   "cell_type": "markdown",
   "id": "098c6efc",
   "metadata": {},
   "source": [
    "## Rank of a tensor:\n",
    "No of linearly independent rows or columns. It gives of true dimension of the information of the matrix.\n",
    "For LoRA, when we say \"rank=8\", we're forcing our adaptation to have at most rank 8, meaning it can only capture 8 independent patterns of change."
   ]
  },
  {
   "cell_type": "code",
   "execution_count": null,
   "id": "9fc2c208",
   "metadata": {},
   "outputs": [
    {
     "name": "stdout",
     "output_type": "stream",
     "text": [
      "Rank 1 matrix:\n",
      "tensor([[1., 2.],\n",
      "        [2., 4.]])\n",
      "Actual rank: 1\n",
      "\n",
      "Rank 2 matrix:\n",
      "tensor([[1., 2.],\n",
      "        [3., 4.]])\n",
      "Actual rank: 2\n",
      "\n",
      "Zero matrix:\n",
      "Actual rank: 0\n"
     ]
    }
   ],
   "source": [
    "rank_1 = torch.tensor([[1., 2.], [2., 4.]])\n",
    "rank_2 = torch.tensor([[1., 2.], [3., 4.]])\n",
    "zero_matrix = torch.zeros(3, 3)\n",
    "\n",
    "print(\"Rank 1 matrix:\")\n",
    "print(rank_1)\n",
    "print(f\"Actual rank: {torch.linalg.matrix_rank(rank_1)}\")\n",
    "\n",
    "print(\"\\nRank 2 matrix:\")\n",
    "print(rank_2) \n",
    "print(f\"Actual rank: {torch.linalg.matrix_rank(rank_2)}\")\n",
    "\n",
    "print(\"\\nZero matrix:\")\n",
    "print(f\"Actual rank: {torch.linalg.matrix_rank(zero_matrix)}\")\n"
   ]
  },
  {
   "cell_type": "markdown",
   "id": "ecfbc825",
   "metadata": {},
   "source": [
    "## LoRA\n",
    "Let's consider a simple case of matrix multiplication."
   ]
  },
  {
   "cell_type": "code",
   "execution_count": null,
   "id": "7fb74484",
   "metadata": {},
   "outputs": [
    {
     "name": "stdout",
     "output_type": "stream",
     "text": [
      "Input shape: torch.Size([2, 256])\n",
      "Weight shape: torch.Size([512, 256])\n",
      "Output shape: torch.Size([2, 512])\n"
     ]
    }
   ],
   "source": [
    "W = torch.randn(512, 256)\n",
    "x = torch.randn(2, 256)\n",
    "y = x @ W.T\n",
    "print(f\"Input shape: {x.shape}\")\n",
    "print(f\"Weight shape: {W.shape}\")\n",
    "print(f\"Output shape: {y.shape}\")"
   ]
  },
  {
   "cell_type": "markdown",
   "id": "65c5ad74",
   "metadata": {},
   "source": [
    "Low-rank decomposition means breaking down a large matrix into the product of two smaller matrices. Think of it this way:\n",
    "1. Original matrix: 512×256 (rank could be up to 256)\n",
    "1. Low-rank decomposition: `A(512*8) * B(8*256)`\n",
    "\n",
    "The \"rank\" is the inner dimension (8 in our case). "
   ]
  },
  {
   "cell_type": "code",
   "execution_count": null,
   "id": "5c48e12f",
   "metadata": {},
   "outputs": [
    {
     "name": "stdout",
     "output_type": "stream",
     "text": [
      "A shape: torch.Size([512, 8])\n",
      "B shape: torch.Size([8, 256])\n",
      "W_decomposed shape: torch.Size([512, 256])\n",
      "Parameters in original W: 131072\n",
      "Parameters in A + B: 6144\n"
     ]
    }
   ],
   "source": [
    "rank = 8\n",
    "A = torch.randn(512, rank)\n",
    "B = torch.randn(rank, 256)\n",
    "W_decomposed = A @ B\n",
    "print(f\"A shape: {A.shape}\")\n",
    "print(f\"B shape: {B.shape}\")\n",
    "print(f\"W_decomposed shape: {W_decomposed.shape}\")\n",
    "print(f\"Parameters in original W: {W.numel()}\")\n",
    "print(f\"Parameters in A + B: {A.numel() + B.numel()}\")\n"
   ]
  },
  {
   "cell_type": "markdown",
   "id": "b7ca298e",
   "metadata": {},
   "source": [
    "Now we need to understand how LoRA uses this decomposition. In LoRA, we don't replace the original weight W. Instead, we ADD the low-rank adaptation to it.\n",
    "```py\n",
    "y_lora = x @ (W + W_decomposed).T = x @ W.T + x @ W_decomposed.T = x @ W.T + (x @ B.T) @ A.T\n",
    "```\n"
   ]
  },
  {
   "cell_type": "code",
   "execution_count": null,
   "id": "2161139b",
   "metadata": {},
   "outputs": [],
   "source": [
    "y_lora = x @ (W + W_decomposed).T \n",
    "assert y.shape == y_lora.shape"
   ]
  },
  {
   "cell_type": "code",
   "execution_count": null,
   "id": "eb41d447",
   "metadata": {},
   "outputs": [],
   "source": [
    "y_efficient = x @ W.T + (x @ B.T) @ A.T\n",
    "assert y_efficient.shape == y.shape\n",
    "assert torch.allclose(y_lora, y_lora)"
   ]
  },
  {
   "cell_type": "markdown",
   "id": "ff3c9f74",
   "metadata": {},
   "source": [
    "So using matrix decompostion we can represet a higher dim matrix with a couple of lower dim matrixs. Which will be used for efficient learning. Useing the lower matrix we can fine tune bigger model in smaller gpu as they wull need smaller space. We can have many different such adapter for different tasks. There is drawback though we need aditional param to keeptack as well as the computation cost of forward pass increases."
   ]
  },
  {
   "cell_type": "markdown",
   "id": "93e8b7d4",
   "metadata": {},
   "source": [
    "## LoRA using pytorch's `nn.Module`\n",
    "\n",
    "Our aim is following\n",
    "1. **Train a simple neural network** on MNIST digits 3 and 4 for binary classification\n",
    "2. **Freeze the original model** after training\n",
    "3. **Add LoRA adapters** to the same model \n",
    "4. **Fine-tune only the LoRA parameters** on digits 7 and 8\n",
    "5. **Compare performance** - showing that LoRA can adapt the model to new tasks without changing original weights\n",
    "\n",
    "This demonstrates LoRA's key benefit: we can reuse a trained model for new tasks by only training a small number of additional parameters, while keeping the original model intact."
   ]
  },
  {
   "cell_type": "code",
   "execution_count": null,
   "id": "5ccc8b36",
   "metadata": {},
   "outputs": [
    {
     "data": {
      "text/plain": [
       "(60000, 10000)"
      ]
     },
     "execution_count": null,
     "metadata": {},
     "output_type": "execute_result"
    }
   ],
   "source": [
    "import torchvision\n",
    "from torchvision import transforms\n",
    "from torch.utils.data import DataLoader, Subset\n",
    "\n",
    "transform = transforms.Compose([transforms.ToTensor(), transforms.Normalize((0.1307,), (0.3081,))])\n",
    "mnist_train = torchvision.datasets.MNIST('./data', train=True, download=True, transform=transform)\n",
    "mnist_test = torchvision.datasets.MNIST('./data', train=False, transform=transform)\n",
    "\n",
    "len(mnist_train), len(mnist_test)"
   ]
  },
  {
   "cell_type": "markdown",
   "id": "206d4f1d",
   "metadata": {},
   "source": [
    "Filtering datasets"
   ]
  },
  {
   "cell_type": "code",
   "execution_count": null,
   "id": "34d1f068",
   "metadata": {},
   "outputs": [
    {
     "data": {
      "text/plain": [
       "(11973, 1992)"
      ]
     },
     "execution_count": null,
     "metadata": {},
     "output_type": "execute_result"
    }
   ],
   "source": [
    "def filter_classes(typ, classes): \n",
    "    dataset = mnist_train if typ == 'train' else mnist_test\n",
    "    indices = []\n",
    "    for i, (_, label) in enumerate(dataset):\n",
    "        if label in classes:\n",
    "            indices.append(i)\n",
    "    \n",
    "    # Create new dataset with remapped labels\n",
    "    remapped_data = []\n",
    "    for i in indices:\n",
    "        x, y = dataset[i]\n",
    "        new_y = 0 if y == classes[0] else 1\n",
    "        remapped_data.append((x, new_y))\n",
    "    \n",
    "    return remapped_data\n",
    "\n",
    "\n",
    "train_34 = filter_classes('train', [3, 4])\n",
    "test_34 = filter_classes('test', [3, 4])\n",
    "\n",
    "len(train_34), len(test_34)"
   ]
  },
  {
   "cell_type": "code",
   "execution_count": null,
   "id": "8aff5764",
   "metadata": {},
   "outputs": [],
   "source": [
    "## dataloaders\n",
    "dls1 = {\n",
    "    'train' : DataLoader(train_34, batch_size=64, shuffle=True),\n",
    "    'valid' : DataLoader(test_34 , batch_size=64)\n",
    "}"
   ]
  },
  {
   "cell_type": "markdown",
   "id": "70f385b6",
   "metadata": {},
   "source": [
    "### the base model"
   ]
  },
  {
   "cell_type": "code",
   "execution_count": null,
   "id": "a9e6c0b8",
   "metadata": {},
   "outputs": [],
   "source": [
    "import torch.nn.functional as F\n",
    "\n",
    "class Net(nn.Module):\n",
    "    def __init__(self):\n",
    "        super().__init__()\n",
    "        self.fc1 = nn.Linear(784, 64)\n",
    "        self.fc2 = nn.Linear(64, 2)\n",
    "    \n",
    "    def forward(self, x):\n",
    "        x = x.view(x.size(0), -1)\n",
    "        x = F.relu(self.fc1(x))\n",
    "        return self.fc2(x)\n",
    "\n",
    "model1 = Net()"
   ]
  },
  {
   "cell_type": "markdown",
   "id": "db40f4df",
   "metadata": {},
   "source": [
    "### Trainer loop"
   ]
  },
  {
   "cell_type": "code",
   "execution_count": null,
   "id": "66c0fa6e",
   "metadata": {},
   "outputs": [],
   "source": [
    "class Trainer:\n",
    "    def __init__(self, dls, model, lr=0.01):\n",
    "        self.dls = dls\n",
    "        self.model = model\n",
    "        self.optim = torch.optim.Adam(self.model.parameters(), lr=lr)\n",
    "    \n",
    "    def train(self, epochs=1):\n",
    "        for epoch in range(epochs):\n",
    "            # training loop\n",
    "            self.model.train()\n",
    "            train_loss = 0\n",
    "            for batch_idx, (data, target) in enumerate(self.dls['train']):\n",
    "                output = self.model(data)\n",
    "                loss = F.cross_entropy(output, target)\n",
    "                loss.backward()\n",
    "                self.optim.step()\n",
    "                self.optim.zero_grad()\n",
    "                train_loss += loss.item()\n",
    "            \n",
    "            # Validation inside epoch loop\n",
    "            self.model.eval()\n",
    "            correct = 0\n",
    "\n",
    "            with torch.no_grad():\n",
    "                valid_loss = 0\n",
    "                for data, target in self.dls['valid']:\n",
    "                    output = self.model(data)\n",
    "                    pred = output.argmax(dim=1)\n",
    "                    correct += pred.eq(target).sum().item()\n",
    "                    loss = F.cross_entropy(output, target)\n",
    "                    valid_loss += loss.item()\n",
    "\n",
    "                    \n",
    "            accuracy = 100. * correct / len(self.dls['valid'].dataset)\n",
    "            print(f'Epoch {epoch+1}: Train Loss: {train_loss/len(self.dls[\"train\"]):.4f}, Valid Loss: {valid_loss/len(self.dls[\"valid\"]):.4f} Accuracy: {accuracy:.2f}%')\n"
   ]
  },
  {
   "cell_type": "code",
   "execution_count": null,
   "id": "93b720ec",
   "metadata": {},
   "outputs": [
    {
     "name": "stdout",
     "output_type": "stream",
     "text": [
      "Epoch 1: Train Loss: 0.0355, Valid Loss: 0.0131 Accuracy: 99.75%\n"
     ]
    }
   ],
   "source": [
    "model1 = Net()\n",
    "t = Trainer(dls=dls1, model=model1, lr=0.01)\n",
    "t.train(1)"
   ]
  },
  {
   "cell_type": "markdown",
   "id": "8546c8bf",
   "metadata": {},
   "source": [
    "### Visualization "
   ]
  },
  {
   "cell_type": "code",
   "execution_count": null,
   "id": "3d5a49fa",
   "metadata": {},
   "outputs": [],
   "source": [
    "import matplotlib.pyplot as plt\n",
    "\n",
    "def visualize_predictions(model, dataloader, num_samples=8):\n",
    "    model.eval()\n",
    "    fig, axes = plt.subplots(2, 4, figsize=(12, 6))\n",
    "    axes = axes.flatten()\n",
    "    \n",
    "    with torch.no_grad():\n",
    "        data, targets = next(iter(dataloader))\n",
    "        outputs = model(data)\n",
    "        predictions = outputs.argmax(dim=1)\n",
    "        \n",
    "        for i in range(num_samples):\n",
    "            img = data[i].squeeze()\n",
    "            axes[i].imshow(img, cmap='gray')\n",
    "            axes[i].set_title(f'Pred: {predictions[i]}, True: {targets[i]}')\n",
    "            axes[i].axis('off')\n",
    "    \n",
    "    plt.tight_layout()\n",
    "    plt.show()"
   ]
  },
  {
   "cell_type": "code",
   "execution_count": null,
   "id": "1aa5a1e1",
   "metadata": {},
   "outputs": [
    {
     "data": {
      "image/png": "[encoded data removed]",
      "text/plain": [
       "<Figure size 1200x600 with 8 Axes>"
      ]
     },
     "metadata": {},
     "output_type": "display_data"
    }
   ],
   "source": [
    "visualize_predictions(model1, dls1['valid'])"
   ]
  },
  {
   "cell_type": "markdown",
   "id": "e2603d01",
   "metadata": {},
   "source": [
    "We trined for 3 and 4 and got around 99% accurecy. Let's move on to using LoRA using Model1 to classification of 7 and 8."
   ]
  },
  {
   "cell_type": "markdown",
   "id": "a1ead590",
   "metadata": {},
   "source": [
    "### LoRA classification of `7` and `8`"
   ]
  },
  {
   "cell_type": "code",
   "execution_count": null,
   "id": "58535f90",
   "metadata": {},
   "outputs": [
    {
     "data": {
      "text/plain": [
       "(12116, 2002)"
      ]
     },
     "execution_count": null,
     "metadata": {},
     "output_type": "execute_result"
    }
   ],
   "source": [
    "train_78 = filter_classes('train', [7, 8])\n",
    "test_78 = filter_classes('test', [7, 8])\n",
    "\n",
    "len(train_78), len(test_78)"
   ]
  },
  {
   "cell_type": "code",
   "execution_count": null,
   "id": "0ea65478",
   "metadata": {},
   "outputs": [],
   "source": [
    "dls2 = {\n",
    "    'train' : DataLoader(train_78, batch_size=64, shuffle=True),\n",
    "    'valid' : DataLoader(test_78, batch_size=64)\n",
    "}"
   ]
  },
  {
   "cell_type": "code",
   "execution_count": null,
   "id": "d6e199d0",
   "metadata": {},
   "outputs": [
    {
     "name": "stdout",
     "output_type": "stream",
     "text": [
      "Batch shape: torch.Size([64, 1, 28, 28]), Labels shape: torch.Size([64])\n"
     ]
    },
    {
     "data": {
      "text/plain": [
       "Net(\n",
       "  (fc1): Linear(in_features=784, out_features=64, bias=True)\n",
       "  (fc2): Linear(in_features=64, out_features=2, bias=True)\n",
       ")"
      ]
     },
     "execution_count": null,
     "metadata": {},
     "output_type": "execute_result"
    }
   ],
   "source": [
    "x, y = next(iter(dls2['train']))\n",
    "print(f\"Batch shape: {x.shape}, Labels shape: {y.shape}\")\n",
    "model1"
   ]
  },
  {
   "cell_type": "markdown",
   "id": "c2ff6ec0",
   "metadata": {},
   "source": [
    "### LoRA model for Linear layers"
   ]
  },
  {
   "cell_type": "code",
   "execution_count": null,
   "id": "c91c9d13",
   "metadata": {},
   "outputs": [],
   "source": [
    "class LoRALinear(nn.Module):\n",
    "    def __init__(self, original_layer, rank=4, alpha=1):\n",
    "        super().__init__()\n",
    "        self.original_layer = original_layer\n",
    "        self.rank = rank\n",
    "        self.alpha = alpha\n",
    "        \n",
    "        # Freeze original layer\n",
    "        for param in self.original_layer.parameters():\n",
    "            param.requires_grad = False\n",
    "            \n",
    "        # LoRA parameters\n",
    "        in_features = original_layer.in_features\n",
    "        out_features = original_layer.out_features\n",
    "        self.lora_A = nn.Parameter(torch.randn(rank, in_features) * 0.01)\n",
    "        self.lora_B = nn.Parameter(torch.zeros(out_features, rank))\n",
    "\n",
    "    def forward(self, x):\n",
    "        #x = x.view(x.size(0), -1)\n",
    "        return  self.original_layer(x) + (x @ self.lora_A.T ) @ self.lora_B.T * (self.alpha / self.rank)"
   ]
  },
  {
   "cell_type": "markdown",
   "id": "5866401c",
   "metadata": {},
   "source": [
    "**LoRA Weight Initialization:** Looking at your code:\n",
    "```py\n",
    "self.lora_A = nn.Parameter(torch.randn(rank, in_features) * 0.01)  # Small random values\n",
    "self.lora_B = nn.Parameter(torch.zeros(out_features, rank))        # Zeros!\n",
    "```\n",
    "The key insight is that at initialization, we want LoRA to have zero effect:\n",
    "\n",
    "- `lora_A` starts with small random values\n",
    "- `lora_B` starts with zeros\n",
    "- So `lora_A @ lora_B = small_values @ zeros = zeros`\n",
    "This means initially: `original_output + 0 = original_output`\n",
    "\n",
    "\n",
    "ResNet Connection Analogy \n",
    "1. Original model = identity path (stable, proven features)\n",
    "1. LoRA adaptation = residual path (learns what's missing)\n",
    "1. Final output = identity + residual\n",
    "\n",
    "If both A and B started random, the initial LoRA output would be: `random_A @ random_B = large` random values. This would immediately distort the original model's good representations, forcing the optimizer to:\n",
    "\n",
    "1. First \"undo\" the random noise\n",
    "1. Then learn the actual adaptation\n",
    "**Alpha Parameter:** controls the \"strength\" of the LoRA adaptation. In the forward pass:\n",
    "```py\n",
    "return original_layer(x) + (x @ lora_A.T) @ lora_B.T * (alpha / rank)\n",
    "```\n",
    "The alpha/rank scaling serves two purposes:\n",
    "\n",
    "Scaling independence: change in rank, the adaptation strength stays consistent\n",
    "Learning rate control: Higher alpha = stronger LoRA influence"
   ]
  },
  {
   "cell_type": "markdown",
   "id": "38b1127a",
   "metadata": {},
   "source": [
    "### LoRA model"
   ]
  },
  {
   "cell_type": "code",
   "execution_count": null,
   "id": "9ddc6d3f",
   "metadata": {},
   "outputs": [],
   "source": [
    "class NetLoRA(nn.Module):\n",
    "    def __init__(self, original_model, rank=4, alpha=1):\n",
    "        super().__init__()\n",
    "        self.layers = []\n",
    "        self.fc1 = LoRALinear(original_model.fc1, rank, alpha)\n",
    "        self.fc2 = LoRALinear(original_model.fc2, rank, alpha)\n",
    "    \n",
    "    def forward(self, x):\n",
    "        x = x.view(x.size(0), -1)\n",
    "        x = F.relu(self.fc1(x))\n",
    "        return self.fc2(x)"
   ]
  },
  {
   "cell_type": "code",
   "execution_count": null,
   "id": "36f6a7f1",
   "metadata": {},
   "outputs": [
    {
     "data": {
      "text/plain": [
       "torch.Size([64, 2])"
      ]
     },
     "execution_count": null,
     "metadata": {},
     "output_type": "execute_result"
    }
   ],
   "source": [
    "model2 = NetLoRA(model1)\n",
    "x, _ = next(iter(dls2['train']))\n",
    "pred = model2(x)\n",
    "pred.shape"
   ]
  },
  {
   "cell_type": "code",
   "execution_count": null,
   "id": "2cdef189",
   "metadata": {},
   "outputs": [
    {
     "name": "stdout",
     "output_type": "stream",
     "text": [
      "fc1.lora_A: requires_grad=True\n",
      "fc1.lora_B: requires_grad=True\n",
      "fc1.original_layer.weight: requires_grad=False\n",
      "fc1.original_layer.bias: requires_grad=False\n",
      "fc2.lora_A: requires_grad=True\n",
      "fc2.lora_B: requires_grad=True\n",
      "fc2.original_layer.weight: requires_grad=False\n",
      "fc2.original_layer.bias: requires_grad=False\n"
     ]
    }
   ],
   "source": [
    "# Checking if the module have grad attributes.\n",
    "for name, param in model2.named_parameters():\n",
    "    print(f\"{name}: requires_grad={param.requires_grad}\")"
   ]
  },
  {
   "cell_type": "code",
   "execution_count": null,
   "id": "551b1abb",
   "metadata": {},
   "outputs": [
    {
     "name": "stdout",
     "output_type": "stream",
     "text": [
      "Epoch 1: Train Loss: 0.2800, Valid Loss: 0.0527 Accuracy: 98.15%\n",
      "Epoch 2: Train Loss: 0.0249, Valid Loss: 0.0290 Accuracy: 98.85%\n",
      "Epoch 3: Train Loss: 0.0190, Valid Loss: 0.0457 Accuracy: 98.35%\n",
      "Epoch 4: Train Loss: 0.0192, Valid Loss: 0.0383 Accuracy: 98.40%\n",
      "Epoch 5: Train Loss: 0.0150, Valid Loss: 0.0295 Accuracy: 98.90%\n"
     ]
    }
   ],
   "source": [
    "#Lets train using dls2 our 7 and 8 datasets with new lora model\n",
    "t2 = Trainer(dls=dls2, model=model2, lr=0.01)\n",
    "t2.train(5)"
   ]
  },
  {
   "cell_type": "code",
   "execution_count": null,
   "id": "5df5c341",
   "metadata": {},
   "outputs": [
    {
     "data": {
      "image/png": "[encoded data removed]",
      "text/plain": [
       "<Figure size 1200x600 with 8 Axes>"
      ]
     },
     "metadata": {},
     "output_type": "display_data"
    }
   ],
   "source": [
    "# visualizing the model wrt the valid set\n",
    "visualize_predictions(model2, dls2['valid'])"
   ]
  },
  {
   "cell_type": "code",
   "execution_count": null,
   "id": "5df5c341",
   "metadata": {},
   "outputs": [
    {
     "name": "stdout",
     "output_type": "stream",
     "text": [
      "Original model: 50370 parameters\n",
      "LoRA adapters: 3656 parameters\n",
      "Efficiency: 7.26% of original\n"
     ]
    }
   ],
   "source": [
    "original_params = sum(p.numel() for p in model1.parameters())\n",
    "lora_params = sum(p.numel() for p in model2.parameters() if p.requires_grad)\n",
    "print(f\"Original model: {original_params} parameters\")\n",
    "print(f\"LoRA adapters: {lora_params} parameters\")\n",
    "print(f\"Efficiency: {lora_params/original_params*100:.2f}% of original\")"
   ]
  },
  {
   "cell_type": "markdown",
   "id": "e53f7d38",
   "metadata": {},
   "source": [
    "### Saving LoRA weights and parameters\n",
    "To save LoRA model that we specially trained. We have to save the following :\n",
    "1. We need to save the hyperparameters (rank, alpha) with the LoRA weights\n",
    "1. We should filter to save only requires_grad=True parameters\n",
    "1. This approach allows us to have multiple LoRA adapters for different tasks\n",
    "By doing the above we can save multiple LoRAs for a given base model trained for differeent task. Where each LoRA file would contain both weights and hyperparameters."
   ]
  },
  {
   "cell_type": "code",
   "execution_count": null,
   "id": "92bd6363",
   "metadata": {},
   "outputs": [
    {
     "name": "stdout",
     "output_type": "stream",
     "text": [
      "main_model.pth: Zip archive data, at least v0.0 to extract, compression method=store\n"
     ]
    }
   ],
   "source": [
    "# saving base model\n",
    "base_model_pth = \"main_model.pth\"\n",
    "torch.save(model1.state_dict(), base_model_pth)\n",
    "!file {base_model_pth}"
   ]
  },
  {
   "cell_type": "code",
   "execution_count": null,
   "id": "83af5971",
   "metadata": {},
   "outputs": [
    {
     "name": "stdout",
     "output_type": "stream",
     "text": [
      "lora.pth: Zip archive data, at least v0.0 to extract, compression method=store\n"
     ]
    }
   ],
   "source": [
    "# saving lora weights \n",
    "rank, alpha = 4, 1.\n",
    "lora_state = {\n",
    "        'rank': rank,\n",
    "        'alpha': alpha,\n",
    "        'weights': {}\n",
    "    }\n",
    "    \n",
    "for name, param in model2.named_parameters():\n",
    "    # we are only filtering out the lora params whih are added\n",
    "    if 'lora' in name and param.requires_grad: \n",
    "        lora_state['weights'][name] = param.data\n",
    "\n",
    "lora_model_pth = 'lora.pth'\n",
    "torch.save(lora_state, lora_model_pth )\n",
    "!file {lora_model_pth}"
   ]
  },
  {
   "cell_type": "markdown",
   "id": "289d8cf0",
   "metadata": {},
   "source": [
    "Loading the LoRA model back from file"
   ]
  },
  {
   "cell_type": "code",
   "execution_count": null,
   "id": "7466d778",
   "metadata": {},
   "outputs": [
    {
     "data": {
      "text/plain": [
       "Net(\n",
       "  (fc1): Linear(in_features=784, out_features=64, bias=True)\n",
       "  (fc2): Linear(in_features=64, out_features=2, bias=True)\n",
       ")"
      ]
     },
     "execution_count": null,
     "metadata": {},
     "output_type": "execute_result"
    }
   ],
   "source": [
    "# load base model\n",
    "base_model = Net()\n",
    "base_model.load_state_dict(torch.load(base_model_pth))\n",
    "base_model"
   ]
  },
  {
   "cell_type": "code",
   "execution_count": null,
   "id": "eb7f422d",
   "metadata": {},
   "outputs": [
    {
     "data": {
      "image/png": "[encoded data removed]",
      "text/plain": [
       "<Figure size 1200x600 with 8 Axes>"
      ]
     },
     "metadata": {},
     "output_type": "display_data"
    }
   ],
   "source": [
    "visualize_predictions(base_model, dls1['valid'])"
   ]
  },
  {
   "cell_type": "code",
   "execution_count": null,
   "id": "5794488e",
   "metadata": {},
   "outputs": [
    {
     "data": {
      "text/plain": [
       "(4, 1.0)"
      ]
     },
     "execution_count": null,
     "metadata": {},
     "output_type": "execute_result"
    }
   ],
   "source": [
    "# loading lora params\n",
    "lora_data = torch.load(lora_model_pth)\n",
    "rank = lora_data['rank']\n",
    "alpha = lora_data['alpha']\n",
    "rank, alpha"
   ]
  },
  {
   "cell_type": "code",
   "execution_count": null,
   "id": "252adbb1",
   "metadata": {},
   "outputs": [],
   "source": [
    "# Create LoRA model from base model\n",
    "lora_model = NetLoRA(base_model, rank=rank, alpha=alpha)\n",
    "\n",
    "# Then load the LoRA weights\n",
    "for name, param in lora_model.named_parameters():\n",
    "    if 'lora' in name and name in lora_data['weights']:\n",
    "        param.data.copy_(lora_data['weights'][name])"
   ]
  },
  {
   "cell_type": "code",
   "execution_count": null,
   "id": "f48dc4d5",
   "metadata": {},
   "outputs": [],
   "source": [
    "# Load LoRA weights properly\n",
    "for name, param in lora_model.named_parameters():\n",
    "    if 'lora' in name and name in lora_data['weights']:\n",
    "        param.data.copy_(lora_data['weights'][name])\n"
   ]
  },
  {
   "cell_type": "code",
   "execution_count": null,
   "id": "e7c933f4",
   "metadata": {},
   "outputs": [
    {
     "data": {
      "image/png": "[encoded data removed]",
      "text/plain": [
       "<Figure size 1200x600 with 8 Axes>"
      ]
     },
     "metadata": {},
     "output_type": "display_data"
    }
   ],
   "source": [
    "# Test on 7&8 dataset\n",
    "visualize_predictions(lora_model, dls2['valid'])\n"
   ]
  },
  {
   "cell_type": "markdown",
   "id": "4b7a1d25",
   "metadata": {},
   "source": [
    "### Hyperparameter analysis\n"
   ]
  },
  {
   "cell_type": "markdown",
   "id": "e511dccb",
   "metadata": {},
   "source": [
    "#### analysis of `rank`"
   ]
  },
  {
   "cell_type": "code",
   "execution_count": null,
   "id": "134361c1",
   "metadata": {},
   "outputs": [
    {
     "name": "stdout",
     "output_type": "stream",
     "text": [
      "\n",
      "=== Testing Rank rank=2 and alpha=1 ===\n",
      "LoRA parameters: 1828\n",
      "Efficiency: 3.63% of original\n",
      "Epoch 1: Train Loss: 0.3000, Valid Loss: 0.0417 Accuracy: 98.55%\n",
      "Epoch 2: Train Loss: 0.0242, Valid Loss: 0.0296 Accuracy: 99.00%\n",
      "Epoch 3: Train Loss: 0.0212, Valid Loss: 0.0318 Accuracy: 98.80%\n",
      "\n",
      "=== Testing Rank rank=4 and alpha=1 ===\n",
      "LoRA parameters: 3656\n",
      "Efficiency: 7.26% of original\n",
      "Epoch 1: Train Loss: 0.2954, Valid Loss: 0.0395 Accuracy: 98.65%\n",
      "Epoch 2: Train Loss: 0.0247, Valid Loss: 0.0344 Accuracy: 98.55%\n",
      "Epoch 3: Train Loss: 0.0213, Valid Loss: 0.0321 Accuracy: 98.85%\n",
      "\n",
      "=== Testing Rank rank=8 and alpha=1 ===\n",
      "LoRA parameters: 7312\n",
      "Efficiency: 14.52% of original\n",
      "Epoch 1: Train Loss: 0.2932, Valid Loss: 0.0576 Accuracy: 98.15%\n",
      "Epoch 2: Train Loss: 0.0240, Valid Loss: 0.0306 Accuracy: 98.80%\n",
      "Epoch 3: Train Loss: 0.0201, Valid Loss: 0.0273 Accuracy: 98.75%\n",
      "\n",
      "=== Testing Rank rank=16 and alpha=1 ===\n",
      "LoRA parameters: 14624\n",
      "Efficiency: 29.03% of original\n",
      "Epoch 1: Train Loss: 0.2780, Valid Loss: 0.0365 Accuracy: 98.50%\n",
      "Epoch 2: Train Loss: 0.0271, Valid Loss: 0.0301 Accuracy: 98.65%\n",
      "Epoch 3: Train Loss: 0.0197, Valid Loss: 0.0251 Accuracy: 99.05%\n"
     ]
    }
   ],
   "source": [
    "def test_rank(rank, alpha=1, epochs=3):\n",
    "    print(f\"\\n=== Testing Rank {rank=} and {alpha=} ===\")\n",
    "    \n",
    "    # Create LoRA model with specific rank\n",
    "    lora_model = NetLoRA(model1, rank=rank, alpha=alpha)\n",
    "    \n",
    "    # Count parameters\n",
    "    lora_params = sum(p.numel() for p in lora_model.parameters() if p.requires_grad)\n",
    "    original_params = sum(p.numel() for p in model1.parameters())\n",
    "    efficiency = lora_params/original_params*100\n",
    "    \n",
    "    print(f\"LoRA parameters: {lora_params}\")\n",
    "    print(f\"Efficiency: {efficiency:.2f}% of original\")\n",
    "    \n",
    "    # Train and get final accuracy\n",
    "    trainer = Trainer(dls=dls2, model=lora_model, lr=0.01)\n",
    "    trainer.train(epochs)\n",
    "    \n",
    "    return lora_params, efficiency\n",
    "\n",
    "# Test different ranks\n",
    "ranks_to_test = [2, 4, 8, 16]\n",
    "results = []\n",
    "\n",
    "for rank in ranks_to_test:\n",
    "    params, eff = test_rank(rank)\n",
    "    results.append((rank, params, eff))\n"
   ]
  },
  {
   "cell_type": "markdown",
   "id": "e1727943",
   "metadata": {},
   "source": [
    "#### analysis of `alpha`"
   ]
  },
  {
   "cell_type": "code",
   "execution_count": null,
   "id": "98e6fabe",
   "metadata": {},
   "outputs": [
    {
     "name": "stdout",
     "output_type": "stream",
     "text": [
      "\n",
      "=== Testing Rank rank=4 and alpha=4 ===\n",
      "LoRA parameters: 3656\n",
      "Efficiency: 7.26% of original\n",
      "Epoch 1: Train Loss: 0.1721, Valid Loss: 0.0368 Accuracy: 98.45%\n",
      "Epoch 2: Train Loss: 0.0240, Valid Loss: 0.0269 Accuracy: 98.75%\n",
      "Epoch 3: Train Loss: 0.0191, Valid Loss: 0.0328 Accuracy: 98.95%\n",
      "\n",
      "=== Testing Rank rank=4 and alpha=2 ===\n",
      "LoRA parameters: 3656\n",
      "Efficiency: 7.26% of original\n",
      "Epoch 1: Train Loss: 0.2189, Valid Loss: 0.0422 Accuracy: 98.65%\n",
      "Epoch 2: Train Loss: 0.0244, Valid Loss: 0.0237 Accuracy: 99.05%\n",
      "Epoch 3: Train Loss: 0.0206, Valid Loss: 0.0277 Accuracy: 98.70%\n",
      "\n",
      "=== Testing Rank rank=4 and alpha=1 ===\n",
      "LoRA parameters: 3656\n",
      "Efficiency: 7.26% of original\n",
      "Epoch 1: Train Loss: 0.2877, Valid Loss: 0.0422 Accuracy: 98.50%\n",
      "Epoch 2: Train Loss: 0.0235, Valid Loss: 0.0306 Accuracy: 98.75%\n",
      "Epoch 3: Train Loss: 0.0209, Valid Loss: 0.0376 Accuracy: 98.55%\n",
      "\n",
      "=== Testing Rank rank=4 and alpha=0.5 ===\n",
      "LoRA parameters: 3656\n",
      "Efficiency: 7.26% of original\n",
      "Epoch 1: Train Loss: 0.3995, Valid Loss: 0.0719 Accuracy: 97.65%\n",
      "Epoch 2: Train Loss: 0.0307, Valid Loss: 0.0339 Accuracy: 98.65%\n",
      "Epoch 3: Train Loss: 0.0230, Valid Loss: 0.0277 Accuracy: 99.00%\n"
     ]
    }
   ],
   "source": [
    "alpahs_to_test = [4, 2, 1, 0.5]\n",
    "for alpha in alpahs_to_test:\n",
    "    params, eff = test_rank(rank=4, alpha= alpha)\n",
    "    results.append((rank, params, eff))"
   ]
  },
  {
   "cell_type": "markdown",
   "id": "5b9b432e",
   "metadata": {},
   "source": [
    "**Rank Selection:**\n",
    "\n",
    "1. Start small: Begin with rank=4 or 8 for most tasks\n",
    "1. Rule of thumb: Higher rank = more expressiveness but more parameters\n",
    "1. Task complexity matters:\n",
    "    - Simple tasks (like your digit classification): rank=4-8\n",
    "    - Complex tasks (large language models): rank=16-64\n",
    "1. Diminishing returns: Performance often plateaus after a certain rank\n",
    "\n",
    "\n",
    "**Alpha Selection:**\n",
    "\n",
    "1. Common values: 1, 8, 16, 32 (often powers of 2)\n",
    "1. Higher alpha: Stronger LoRA influence, faster adaptation\n",
    "1. Lower alpha: More conservative, slower learning\n",
    "1. Starting point: Try alpha = rank (so alpha=8 for rank=8)\n",
    "\n",
    "\n",
    "**Practical approach:**\n",
    "\n",
    "1. Fix alpha=1, try ranks [4, 8, 16]\n",
    "1. Pick best performing rank\n",
    "1. Then tune alpha [0.1, 1, 8, 16] with that rank"
   ]
  },
  {
   "cell_type": "markdown",
   "id": "767c7a3f",
   "metadata": {},
   "source": [
    "## Conclusion\n",
    "Through this hands-on exploration, we've demonstrated LoRA's core value proposition: achieving strong performance on new tasks while using only a fraction of the original model's parameters.\n",
    "\n",
    "**Key takeaways:**\n",
    "\n",
    "1. LoRA adapters used only 7.26% of the original parameters yet achieved 98.15% accuracy on a completely different classification task\n",
    "1. The original model weights remain frozen and unchanged, preventing catastrophic forgetting\n",
    "1. Multiple task-specific LoRA adapters can be saved and swapped for the same base model\n",
    "**Why LoRA matters:**\n",
    "1. Memory efficient: Fine-tune large models on consumer GPUs\n",
    "1. Storage efficient: Store multiple task adapters instead of full model copies\n",
    "1. Modular: Easy to experiment with different tasks without retraining from scratch\n",
    "This simple MNIST example scales to modern LLMs where LoRA enables fine-tuning billion-parameter models with minimal computational resources, making personalized AI more accessible."
   ]
  }
 ],
 "metadata": {
  "kernelspec": {
   "display_name": "python3",
   "language": "python",
   "name": "python3"
  }
 },
 "nbformat": 4,
 "nbformat_minor": 5
}
